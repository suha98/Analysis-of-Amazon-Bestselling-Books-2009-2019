{
  "nbformat": 4,
  "nbformat_minor": 0,
  "metadata": {
    "colab": {
      "name": "Bestselling Books.ipynb",
      "provenance": [],
      "toc_visible": true,
      "authorship_tag": "ABX9TyNUFq5TpYuaQqiUw8cDiOfd",
      "include_colab_link": true
    },
    "kernelspec": {
      "name": "python3",
      "display_name": "Python 3"
    },
    "language_info": {
      "name": "python"
    }
  },
  "cells": [
    {
      "cell_type": "markdown",
      "metadata": {
        "id": "view-in-github",
        "colab_type": "text"
      },
      "source": [
        "<a href=\"https://colab.research.google.com/github/suha98/Analysis-of-Amazon-Bestselling-Books-2009-2019/blob/main/Bestselling_Books.ipynb\" target=\"_parent\"><img src=\"https://colab.research.google.com/assets/colab-badge.svg\" alt=\"Open In Colab\"/></a>"
      ]
    },
    {
      "cell_type": "markdown",
      "source": [
        "### About the Data\n",
        "\n",
        "**Name:** Amazon top 50 Bestselling Books List from 2009 to 2019\n",
        "\n",
        "The dataset was collected from [Kaggle](https://www.kaggle.com/sootersaalu/amazon-top-50-bestselling-books-2009-2019). I manually added the Gender column and have uploaded my version of the data. "
      ],
      "metadata": {
        "id": "-3-Sa5IQPfBN"
      }
    },
    {
      "cell_type": "code",
      "execution_count": 1,
      "metadata": {
        "id": "oC5kBX9ZubGI"
      },
      "outputs": [],
      "source": [
        "import pandas as pd\n",
        "import numpy as  np\n",
        "import seaborn as sns\n",
        "import matplotlib.pyplot as plt\n"
      ]
    },
    {
      "cell_type": "code",
      "source": [
        "df = pd.read_csv('bestsellers with categories.csv')"
      ],
      "metadata": {
        "id": "BzHUI6NryMOY"
      },
      "execution_count": 2,
      "outputs": []
    },
    {
      "cell_type": "code",
      "source": [
        "df"
      ],
      "metadata": {
        "colab": {
          "base_uri": "https://localhost:8080/",
          "height": 423
        },
        "id": "RBQ3ScUCyqd2",
        "outputId": "6105c2bb-318f-4065-b58f-07130f6626a3"
      },
      "execution_count": 3,
      "outputs": [
        {
          "output_type": "execute_result",
          "data": {
            "text/html": [
              "\n",
              "  <div id=\"df-5d9fc1df-4d28-49a0-8034-17a92d56d442\">\n",
              "    <div class=\"colab-df-container\">\n",
              "      <div>\n",
              "<style scoped>\n",
              "    .dataframe tbody tr th:only-of-type {\n",
              "        vertical-align: middle;\n",
              "    }\n",
              "\n",
              "    .dataframe tbody tr th {\n",
              "        vertical-align: top;\n",
              "    }\n",
              "\n",
              "    .dataframe thead th {\n",
              "        text-align: right;\n",
              "    }\n",
              "</style>\n",
              "<table border=\"1\" class=\"dataframe\">\n",
              "  <thead>\n",
              "    <tr style=\"text-align: right;\">\n",
              "      <th></th>\n",
              "      <th>Name</th>\n",
              "      <th>Author</th>\n",
              "      <th>User Rating</th>\n",
              "      <th>Reviews</th>\n",
              "      <th>Price</th>\n",
              "      <th>Year</th>\n",
              "      <th>Genre</th>\n",
              "      <th>Gender</th>\n",
              "    </tr>\n",
              "  </thead>\n",
              "  <tbody>\n",
              "    <tr>\n",
              "      <th>0</th>\n",
              "      <td>Cutting for Stone</td>\n",
              "      <td>Abraham Verghese</td>\n",
              "      <td>4.6</td>\n",
              "      <td>4866</td>\n",
              "      <td>11</td>\n",
              "      <td>2010</td>\n",
              "      <td>Fiction</td>\n",
              "      <td>Male</td>\n",
              "    </tr>\n",
              "    <tr>\n",
              "      <th>1</th>\n",
              "      <td>Cutting for Stone</td>\n",
              "      <td>Abraham Verghese</td>\n",
              "      <td>4.6</td>\n",
              "      <td>4866</td>\n",
              "      <td>11</td>\n",
              "      <td>2011</td>\n",
              "      <td>Fiction</td>\n",
              "      <td>Male</td>\n",
              "    </tr>\n",
              "    <tr>\n",
              "      <th>2</th>\n",
              "      <td>Milk and Vine: Inspirational Quotes From Class...</td>\n",
              "      <td>Adam Gasiewski</td>\n",
              "      <td>4.4</td>\n",
              "      <td>3113</td>\n",
              "      <td>6</td>\n",
              "      <td>2017</td>\n",
              "      <td>Non Fiction</td>\n",
              "      <td>Male</td>\n",
              "    </tr>\n",
              "    <tr>\n",
              "      <th>3</th>\n",
              "      <td>Go the F**k to Sleep</td>\n",
              "      <td>Adam Mansbach</td>\n",
              "      <td>4.8</td>\n",
              "      <td>9568</td>\n",
              "      <td>9</td>\n",
              "      <td>2011</td>\n",
              "      <td>Fiction</td>\n",
              "      <td>Male</td>\n",
              "    </tr>\n",
              "    <tr>\n",
              "      <th>4</th>\n",
              "      <td>What Should Danny Do? (The Power to Choose Ser...</td>\n",
              "      <td>Adir Levy</td>\n",
              "      <td>4.8</td>\n",
              "      <td>8170</td>\n",
              "      <td>13</td>\n",
              "      <td>2019</td>\n",
              "      <td>Fiction</td>\n",
              "      <td>Male</td>\n",
              "    </tr>\n",
              "    <tr>\n",
              "      <th>...</th>\n",
              "      <td>...</td>\n",
              "      <td>...</td>\n",
              "      <td>...</td>\n",
              "      <td>...</td>\n",
              "      <td>...</td>\n",
              "      <td>...</td>\n",
              "      <td>...</td>\n",
              "      <td>...</td>\n",
              "    </tr>\n",
              "    <tr>\n",
              "      <th>545</th>\n",
              "      <td>Player's Handbook (Dungeons &amp; Dragons)</td>\n",
              "      <td>Wizards RPG Team</td>\n",
              "      <td>4.8</td>\n",
              "      <td>16990</td>\n",
              "      <td>27</td>\n",
              "      <td>2017</td>\n",
              "      <td>Fiction</td>\n",
              "      <td>Company</td>\n",
              "    </tr>\n",
              "    <tr>\n",
              "      <th>546</th>\n",
              "      <td>Player's Handbook (Dungeons &amp; Dragons)</td>\n",
              "      <td>Wizards RPG Team</td>\n",
              "      <td>4.8</td>\n",
              "      <td>16990</td>\n",
              "      <td>27</td>\n",
              "      <td>2018</td>\n",
              "      <td>Fiction</td>\n",
              "      <td>Company</td>\n",
              "    </tr>\n",
              "    <tr>\n",
              "      <th>547</th>\n",
              "      <td>Player's Handbook (Dungeons &amp; Dragons)</td>\n",
              "      <td>Wizards RPG Team</td>\n",
              "      <td>4.8</td>\n",
              "      <td>16990</td>\n",
              "      <td>27</td>\n",
              "      <td>2019</td>\n",
              "      <td>Fiction</td>\n",
              "      <td>Company</td>\n",
              "    </tr>\n",
              "    <tr>\n",
              "      <th>548</th>\n",
              "      <td>Divine Soul Mind Body Healing and Transmission...</td>\n",
              "      <td>Zhi Gang Sha</td>\n",
              "      <td>4.6</td>\n",
              "      <td>37</td>\n",
              "      <td>6</td>\n",
              "      <td>2009</td>\n",
              "      <td>Non Fiction</td>\n",
              "      <td>Male</td>\n",
              "    </tr>\n",
              "    <tr>\n",
              "      <th>549</th>\n",
              "      <td>Soul Healing Miracles: Ancient and New Sacred ...</td>\n",
              "      <td>Zhi Gang Sha</td>\n",
              "      <td>4.6</td>\n",
              "      <td>220</td>\n",
              "      <td>17</td>\n",
              "      <td>2013</td>\n",
              "      <td>Non Fiction</td>\n",
              "      <td>Male</td>\n",
              "    </tr>\n",
              "  </tbody>\n",
              "</table>\n",
              "<p>550 rows × 8 columns</p>\n",
              "</div>\n",
              "      <button class=\"colab-df-convert\" onclick=\"convertToInteractive('df-5d9fc1df-4d28-49a0-8034-17a92d56d442')\"\n",
              "              title=\"Convert this dataframe to an interactive table.\"\n",
              "              style=\"display:none;\">\n",
              "        \n",
              "  <svg xmlns=\"http://www.w3.org/2000/svg\" height=\"24px\"viewBox=\"0 0 24 24\"\n",
              "       width=\"24px\">\n",
              "    <path d=\"M0 0h24v24H0V0z\" fill=\"none\"/>\n",
              "    <path d=\"M18.56 5.44l.94 2.06.94-2.06 2.06-.94-2.06-.94-.94-2.06-.94 2.06-2.06.94zm-11 1L8.5 8.5l.94-2.06 2.06-.94-2.06-.94L8.5 2.5l-.94 2.06-2.06.94zm10 10l.94 2.06.94-2.06 2.06-.94-2.06-.94-.94-2.06-.94 2.06-2.06.94z\"/><path d=\"M17.41 7.96l-1.37-1.37c-.4-.4-.92-.59-1.43-.59-.52 0-1.04.2-1.43.59L10.3 9.45l-7.72 7.72c-.78.78-.78 2.05 0 2.83L4 21.41c.39.39.9.59 1.41.59.51 0 1.02-.2 1.41-.59l7.78-7.78 2.81-2.81c.8-.78.8-2.07 0-2.86zM5.41 20L4 18.59l7.72-7.72 1.47 1.35L5.41 20z\"/>\n",
              "  </svg>\n",
              "      </button>\n",
              "      \n",
              "  <style>\n",
              "    .colab-df-container {\n",
              "      display:flex;\n",
              "      flex-wrap:wrap;\n",
              "      gap: 12px;\n",
              "    }\n",
              "\n",
              "    .colab-df-convert {\n",
              "      background-color: #E8F0FE;\n",
              "      border: none;\n",
              "      border-radius: 50%;\n",
              "      cursor: pointer;\n",
              "      display: none;\n",
              "      fill: #1967D2;\n",
              "      height: 32px;\n",
              "      padding: 0 0 0 0;\n",
              "      width: 32px;\n",
              "    }\n",
              "\n",
              "    .colab-df-convert:hover {\n",
              "      background-color: #E2EBFA;\n",
              "      box-shadow: 0px 1px 2px rgba(60, 64, 67, 0.3), 0px 1px 3px 1px rgba(60, 64, 67, 0.15);\n",
              "      fill: #174EA6;\n",
              "    }\n",
              "\n",
              "    [theme=dark] .colab-df-convert {\n",
              "      background-color: #3B4455;\n",
              "      fill: #D2E3FC;\n",
              "    }\n",
              "\n",
              "    [theme=dark] .colab-df-convert:hover {\n",
              "      background-color: #434B5C;\n",
              "      box-shadow: 0px 1px 3px 1px rgba(0, 0, 0, 0.15);\n",
              "      filter: drop-shadow(0px 1px 2px rgba(0, 0, 0, 0.3));\n",
              "      fill: #FFFFFF;\n",
              "    }\n",
              "  </style>\n",
              "\n",
              "      <script>\n",
              "        const buttonEl =\n",
              "          document.querySelector('#df-5d9fc1df-4d28-49a0-8034-17a92d56d442 button.colab-df-convert');\n",
              "        buttonEl.style.display =\n",
              "          google.colab.kernel.accessAllowed ? 'block' : 'none';\n",
              "\n",
              "        async function convertToInteractive(key) {\n",
              "          const element = document.querySelector('#df-5d9fc1df-4d28-49a0-8034-17a92d56d442');\n",
              "          const dataTable =\n",
              "            await google.colab.kernel.invokeFunction('convertToInteractive',\n",
              "                                                     [key], {});\n",
              "          if (!dataTable) return;\n",
              "\n",
              "          const docLinkHtml = 'Like what you see? Visit the ' +\n",
              "            '<a target=\"_blank\" href=https://colab.research.google.com/notebooks/data_table.ipynb>data table notebook</a>'\n",
              "            + ' to learn more about interactive tables.';\n",
              "          element.innerHTML = '';\n",
              "          dataTable['output_type'] = 'display_data';\n",
              "          await google.colab.output.renderOutput(dataTable, element);\n",
              "          const docLink = document.createElement('div');\n",
              "          docLink.innerHTML = docLinkHtml;\n",
              "          element.appendChild(docLink);\n",
              "        }\n",
              "      </script>\n",
              "    </div>\n",
              "  </div>\n",
              "  "
            ],
            "text/plain": [
              "                                                  Name  ...   Gender\n",
              "0                                    Cutting for Stone  ...     Male\n",
              "1                                    Cutting for Stone  ...     Male\n",
              "2    Milk and Vine: Inspirational Quotes From Class...  ...     Male\n",
              "3                                 Go the F**k to Sleep  ...     Male\n",
              "4    What Should Danny Do? (The Power to Choose Ser...  ...     Male\n",
              "..                                                 ...  ...      ...\n",
              "545             Player's Handbook (Dungeons & Dragons)  ...  Company\n",
              "546             Player's Handbook (Dungeons & Dragons)  ...  Company\n",
              "547             Player's Handbook (Dungeons & Dragons)  ...  Company\n",
              "548  Divine Soul Mind Body Healing and Transmission...  ...     Male\n",
              "549  Soul Healing Miracles: Ancient and New Sacred ...  ...     Male\n",
              "\n",
              "[550 rows x 8 columns]"
            ]
          },
          "metadata": {},
          "execution_count": 3
        }
      ]
    },
    {
      "cell_type": "code",
      "source": [
        "df.isnull().sum()"
      ],
      "metadata": {
        "id": "7AnoVoQ0yrfU",
        "colab": {
          "base_uri": "https://localhost:8080/"
        },
        "outputId": "b42201fd-60c8-43e5-9b51-50e3ed56e489"
      },
      "execution_count": 4,
      "outputs": [
        {
          "output_type": "execute_result",
          "data": {
            "text/plain": [
              "Name           0\n",
              "Author         0\n",
              "User Rating    0\n",
              "Reviews        0\n",
              "Price          0\n",
              "Year           0\n",
              "Genre          0\n",
              "Gender         0\n",
              "dtype: int64"
            ]
          },
          "metadata": {},
          "execution_count": 4
        }
      ]
    },
    {
      "cell_type": "code",
      "source": [
        "print(df['Genre'].unique())\n",
        "print(df['Year'].unique())"
      ],
      "metadata": {
        "colab": {
          "base_uri": "https://localhost:8080/"
        },
        "id": "AtkBm8V1GdbL",
        "outputId": "4c2729ea-e74f-403f-d611-aa71fcd65c22"
      },
      "execution_count": 5,
      "outputs": [
        {
          "output_type": "stream",
          "name": "stdout",
          "text": [
            "['Fiction' 'Non Fiction']\n",
            "[2010 2011 2017 2019 2016 2009 2014 2013 2012 2015 2018]\n"
          ]
        }
      ]
    },
    {
      "cell_type": "markdown",
      "source": [
        "## Possible Analyses\n",
        "\n",
        "1. Distribution of Male and Female authors in ten years\n",
        "2. Distribution of Fiction and Non-Fiction Works in 10 Years\n",
        "3. Correlation between number of reviews and price according to males and females - does more reviews mean higher price?\n",
        "5. Distribution of Gender and Number of Reviews\n",
        "6. Distribution of review ratings according to year\n",
        "7. Does a book name with more words mean higher rating/reviews/price? Is it on the bestseller list for longer?\n",
        "8. Books that have been on the bestselling list more than once and their characteristics. Did the price go up? Are most of these books fiction or non-fiction? Were most of the writers male or female?\n",
        "\n"
      ],
      "metadata": {
        "id": "HwaWLJX1hCTl"
      }
    },
    {
      "cell_type": "markdown",
      "source": [
        "## Calculations"
      ],
      "metadata": {
        "id": "yZ-koUECpaE5"
      }
    },
    {
      "cell_type": "markdown",
      "source": [
        "Calculating the percentage of male and female bestselling authors"
      ],
      "metadata": {
        "id": "GIJdAxHmmMDP"
      }
    },
    {
      "cell_type": "code",
      "source": [
        "#Making a subset of the dataframe by grouping the rows by gender\n",
        "df_gender = pd.DataFrame(df.groupby(['Year', 'Gender']).size().reset_index())\n",
        "\n",
        "#converts the wide-form data to longform\n",
        "df_gender= df_gender.pivot(index=['Year'], columns=['Gender'], values=0)\n",
        "\n",
        "#creating the column for percentages\n",
        "df_gender['female %'] = (df_gender['Female']/50)*100\n",
        "df_gender['male %'] = (df_gender['Male']/50)*100\n",
        "\n",
        "\n",
        "df_gender"
      ],
      "metadata": {
        "colab": {
          "base_uri": "https://localhost:8080/",
          "height": 426
        },
        "id": "-PU4HrfWp4Pb",
        "outputId": "dd75a308-081e-4625-f7bb-eb164bfee1f5"
      },
      "execution_count": 7,
      "outputs": [
        {
          "output_type": "execute_result",
          "data": {
            "text/html": [
              "\n",
              "  <div id=\"df-067e8f3f-8b02-427d-a654-62774faeb7b8\">\n",
              "    <div class=\"colab-df-container\">\n",
              "      <div>\n",
              "<style scoped>\n",
              "    .dataframe tbody tr th:only-of-type {\n",
              "        vertical-align: middle;\n",
              "    }\n",
              "\n",
              "    .dataframe tbody tr th {\n",
              "        vertical-align: top;\n",
              "    }\n",
              "\n",
              "    .dataframe thead th {\n",
              "        text-align: right;\n",
              "    }\n",
              "</style>\n",
              "<table border=\"1\" class=\"dataframe\">\n",
              "  <thead>\n",
              "    <tr style=\"text-align: right;\">\n",
              "      <th>Gender</th>\n",
              "      <th>Company</th>\n",
              "      <th>Female</th>\n",
              "      <th>Male</th>\n",
              "      <th>female %</th>\n",
              "      <th>male %</th>\n",
              "    </tr>\n",
              "    <tr>\n",
              "      <th>Year</th>\n",
              "      <th></th>\n",
              "      <th></th>\n",
              "      <th></th>\n",
              "      <th></th>\n",
              "      <th></th>\n",
              "    </tr>\n",
              "  </thead>\n",
              "  <tbody>\n",
              "    <tr>\n",
              "      <th>2009</th>\n",
              "      <td>2</td>\n",
              "      <td>16</td>\n",
              "      <td>32</td>\n",
              "      <td>32.0</td>\n",
              "      <td>64.0</td>\n",
              "    </tr>\n",
              "    <tr>\n",
              "      <th>2010</th>\n",
              "      <td>3</td>\n",
              "      <td>11</td>\n",
              "      <td>36</td>\n",
              "      <td>22.0</td>\n",
              "      <td>72.0</td>\n",
              "    </tr>\n",
              "    <tr>\n",
              "      <th>2011</th>\n",
              "      <td>3</td>\n",
              "      <td>16</td>\n",
              "      <td>31</td>\n",
              "      <td>32.0</td>\n",
              "      <td>62.0</td>\n",
              "    </tr>\n",
              "    <tr>\n",
              "      <th>2012</th>\n",
              "      <td>3</td>\n",
              "      <td>19</td>\n",
              "      <td>28</td>\n",
              "      <td>38.0</td>\n",
              "      <td>56.0</td>\n",
              "    </tr>\n",
              "    <tr>\n",
              "      <th>2013</th>\n",
              "      <td>4</td>\n",
              "      <td>14</td>\n",
              "      <td>32</td>\n",
              "      <td>28.0</td>\n",
              "      <td>64.0</td>\n",
              "    </tr>\n",
              "    <tr>\n",
              "      <th>2014</th>\n",
              "      <td>8</td>\n",
              "      <td>13</td>\n",
              "      <td>29</td>\n",
              "      <td>26.0</td>\n",
              "      <td>58.0</td>\n",
              "    </tr>\n",
              "    <tr>\n",
              "      <th>2015</th>\n",
              "      <td>8</td>\n",
              "      <td>17</td>\n",
              "      <td>25</td>\n",
              "      <td>34.0</td>\n",
              "      <td>50.0</td>\n",
              "    </tr>\n",
              "    <tr>\n",
              "      <th>2016</th>\n",
              "      <td>7</td>\n",
              "      <td>24</td>\n",
              "      <td>19</td>\n",
              "      <td>48.0</td>\n",
              "      <td>38.0</td>\n",
              "    </tr>\n",
              "    <tr>\n",
              "      <th>2017</th>\n",
              "      <td>5</td>\n",
              "      <td>16</td>\n",
              "      <td>29</td>\n",
              "      <td>32.0</td>\n",
              "      <td>58.0</td>\n",
              "    </tr>\n",
              "    <tr>\n",
              "      <th>2018</th>\n",
              "      <td>5</td>\n",
              "      <td>19</td>\n",
              "      <td>26</td>\n",
              "      <td>38.0</td>\n",
              "      <td>52.0</td>\n",
              "    </tr>\n",
              "    <tr>\n",
              "      <th>2019</th>\n",
              "      <td>7</td>\n",
              "      <td>20</td>\n",
              "      <td>23</td>\n",
              "      <td>40.0</td>\n",
              "      <td>46.0</td>\n",
              "    </tr>\n",
              "  </tbody>\n",
              "</table>\n",
              "</div>\n",
              "      <button class=\"colab-df-convert\" onclick=\"convertToInteractive('df-067e8f3f-8b02-427d-a654-62774faeb7b8')\"\n",
              "              title=\"Convert this dataframe to an interactive table.\"\n",
              "              style=\"display:none;\">\n",
              "        \n",
              "  <svg xmlns=\"http://www.w3.org/2000/svg\" height=\"24px\"viewBox=\"0 0 24 24\"\n",
              "       width=\"24px\">\n",
              "    <path d=\"M0 0h24v24H0V0z\" fill=\"none\"/>\n",
              "    <path d=\"M18.56 5.44l.94 2.06.94-2.06 2.06-.94-2.06-.94-.94-2.06-.94 2.06-2.06.94zm-11 1L8.5 8.5l.94-2.06 2.06-.94-2.06-.94L8.5 2.5l-.94 2.06-2.06.94zm10 10l.94 2.06.94-2.06 2.06-.94-2.06-.94-.94-2.06-.94 2.06-2.06.94z\"/><path d=\"M17.41 7.96l-1.37-1.37c-.4-.4-.92-.59-1.43-.59-.52 0-1.04.2-1.43.59L10.3 9.45l-7.72 7.72c-.78.78-.78 2.05 0 2.83L4 21.41c.39.39.9.59 1.41.59.51 0 1.02-.2 1.41-.59l7.78-7.78 2.81-2.81c.8-.78.8-2.07 0-2.86zM5.41 20L4 18.59l7.72-7.72 1.47 1.35L5.41 20z\"/>\n",
              "  </svg>\n",
              "      </button>\n",
              "      \n",
              "  <style>\n",
              "    .colab-df-container {\n",
              "      display:flex;\n",
              "      flex-wrap:wrap;\n",
              "      gap: 12px;\n",
              "    }\n",
              "\n",
              "    .colab-df-convert {\n",
              "      background-color: #E8F0FE;\n",
              "      border: none;\n",
              "      border-radius: 50%;\n",
              "      cursor: pointer;\n",
              "      display: none;\n",
              "      fill: #1967D2;\n",
              "      height: 32px;\n",
              "      padding: 0 0 0 0;\n",
              "      width: 32px;\n",
              "    }\n",
              "\n",
              "    .colab-df-convert:hover {\n",
              "      background-color: #E2EBFA;\n",
              "      box-shadow: 0px 1px 2px rgba(60, 64, 67, 0.3), 0px 1px 3px 1px rgba(60, 64, 67, 0.15);\n",
              "      fill: #174EA6;\n",
              "    }\n",
              "\n",
              "    [theme=dark] .colab-df-convert {\n",
              "      background-color: #3B4455;\n",
              "      fill: #D2E3FC;\n",
              "    }\n",
              "\n",
              "    [theme=dark] .colab-df-convert:hover {\n",
              "      background-color: #434B5C;\n",
              "      box-shadow: 0px 1px 3px 1px rgba(0, 0, 0, 0.15);\n",
              "      filter: drop-shadow(0px 1px 2px rgba(0, 0, 0, 0.3));\n",
              "      fill: #FFFFFF;\n",
              "    }\n",
              "  </style>\n",
              "\n",
              "      <script>\n",
              "        const buttonEl =\n",
              "          document.querySelector('#df-067e8f3f-8b02-427d-a654-62774faeb7b8 button.colab-df-convert');\n",
              "        buttonEl.style.display =\n",
              "          google.colab.kernel.accessAllowed ? 'block' : 'none';\n",
              "\n",
              "        async function convertToInteractive(key) {\n",
              "          const element = document.querySelector('#df-067e8f3f-8b02-427d-a654-62774faeb7b8');\n",
              "          const dataTable =\n",
              "            await google.colab.kernel.invokeFunction('convertToInteractive',\n",
              "                                                     [key], {});\n",
              "          if (!dataTable) return;\n",
              "\n",
              "          const docLinkHtml = 'Like what you see? Visit the ' +\n",
              "            '<a target=\"_blank\" href=https://colab.research.google.com/notebooks/data_table.ipynb>data table notebook</a>'\n",
              "            + ' to learn more about interactive tables.';\n",
              "          element.innerHTML = '';\n",
              "          dataTable['output_type'] = 'display_data';\n",
              "          await google.colab.output.renderOutput(dataTable, element);\n",
              "          const docLink = document.createElement('div');\n",
              "          docLink.innerHTML = docLinkHtml;\n",
              "          element.appendChild(docLink);\n",
              "        }\n",
              "      </script>\n",
              "    </div>\n",
              "  </div>\n",
              "  "
            ],
            "text/plain": [
              "Gender  Company  Female  Male  female %  male %\n",
              "Year                                           \n",
              "2009          2      16    32      32.0    64.0\n",
              "2010          3      11    36      22.0    72.0\n",
              "2011          3      16    31      32.0    62.0\n",
              "2012          3      19    28      38.0    56.0\n",
              "2013          4      14    32      28.0    64.0\n",
              "2014          8      13    29      26.0    58.0\n",
              "2015          8      17    25      34.0    50.0\n",
              "2016          7      24    19      48.0    38.0\n",
              "2017          5      16    29      32.0    58.0\n",
              "2018          5      19    26      38.0    52.0\n",
              "2019          7      20    23      40.0    46.0"
            ]
          },
          "metadata": {},
          "execution_count": 7
        }
      ]
    },
    {
      "cell_type": "markdown",
      "source": [
        "## Visualizations"
      ],
      "metadata": {
        "id": "VJ9-ltD0pcmZ"
      }
    },
    {
      "cell_type": "markdown",
      "source": [
        "##### **Distribution of Male and Female authors over time**\n",
        "\n",
        "Comments:\n",
        "1. The percentage of bestselling male authors was approximately double the percentage of bestselling females authors in 2009\n",
        "2. The only year that there were more bestselling female authors was in 2016\n",
        "3. The disparity had been decreasing over the years. In 2019, there are 5% more male authors than females which is far smaller than the 35% in 2009\n",
        "\n",
        "```\n",
        "# This is formatted as code\n",
        "```\n",
        "\n",
        "\n"
      ],
      "metadata": {
        "id": "FPKwlWcnkJxT"
      }
    },
    {
      "cell_type": "code",
      "source": [
        "sns.set_theme()\n",
        "plt.figure(figsize=(15,10))\n",
        "plt.title('Percentage of males and females on the bestseller list from 2009-2019')\n",
        "plt.xlabel('Year')\n",
        "plt.ylabel('Percentage')\n",
        "sns.lineplot(data = df_gender[['male %', 'female %']], marker = 'o')"
      ],
      "metadata": {
        "colab": {
          "base_uri": "https://localhost:8080/",
          "height": 644
        },
        "id": "zyWhc6CUPR-i",
        "outputId": "5b4783af-2397-4c18-d190-246e8f396163"
      },
      "execution_count": 53,
      "outputs": [
        {
          "output_type": "execute_result",
          "data": {
            "text/plain": [
              "<matplotlib.axes._subplots.AxesSubplot at 0x7f6f5253c510>"
            ]
          },
          "metadata": {},
          "execution_count": 53
        },
        {
          "output_type": "display_data",
          "data": {
            "image/png": "[encoded data removed]",
            "text/plain": [
              "<Figure size 1080x720 with 1 Axes>"
            ]
          },
          "metadata": {}
        }
      ]
    },
    {
      "cell_type": "markdown",
      "source": [
        "##### **Number of fiction/non-fiction books by gender over time**\n",
        "\n",
        "Comments: \n",
        "- There were more non-fiction books than fiction in most years\n",
        "- The number of male non-fiction writers decreased\n",
        "- The number of female non-fiction writers increased\n",
        "- Books with company authors were mostly non-fiction\n",
        "- The number of male fiction writers remained relatively constant whereas the number of females decreased"
      ],
      "metadata": {
        "id": "K2ZnZlxAl50L"
      }
    },
    {
      "cell_type": "code",
      "source": [
        "sns.set_theme()\n",
        "sns.displot(df, x=\"Year\", hue = 'Gender', palette = 'mako', multiple = 'stack',col = 'Genre')\n"
      ],
      "metadata": {
        "colab": {
          "base_uri": "https://localhost:8080/",
          "height": 382
        },
        "outputId": "259d015f-bc2e-4818-ead8-d13e6f45c74b",
        "id": "Q5sGDm7jl8gL"
      },
      "execution_count": 52,
      "outputs": [
        {
          "output_type": "execute_result",
          "data": {
            "text/plain": [
              "<seaborn.axisgrid.FacetGrid at 0x7f6f525a44d0>"
            ]
          },
          "metadata": {},
          "execution_count": 52
        },
        {
          "output_type": "display_data",
          "data": {
            "image/png": "[encoded data removed]",
            "text/plain": [
              "<Figure size 811.975x360 with 2 Axes>"
            ]
          },
          "metadata": {}
        }
      ]
    },
    {
      "cell_type": "markdown",
      "source": [
        "##### **User Rating of Amazon Bestselling Books over time**\n",
        "\n",
        "With time, it appears that books with a higher user rating became bestsellers."
      ],
      "metadata": {
        "id": "8ZyI7dfGkjTI"
      }
    },
    {
      "cell_type": "code",
      "source": [
        "sns.set_theme()\n",
        "plt.figure(figsize=(15,10))\n",
        "plt.title('User Rating of Amazon Bestselling Books from 2009-2019')\n",
        "plt.xlabel('Year')\n",
        "plt.ylabel('User Rating')\n",
        "sns.lineplot(data=df, x=\"Year\", y='User Rating')\n",
        "\n"
      ],
      "metadata": {
        "colab": {
          "base_uri": "https://localhost:8080/",
          "height": 644
        },
        "id": "rLaebOkOcRoq",
        "outputId": "54d7b844-a7a0-4915-9f64-352f028e0d4f"
      },
      "execution_count": 54,
      "outputs": [
        {
          "output_type": "execute_result",
          "data": {
            "text/plain": [
              "<matplotlib.axes._subplots.AxesSubplot at 0x7f6f52238050>"
            ]
          },
          "metadata": {},
          "execution_count": 54
        },
        {
          "output_type": "display_data",
          "data": {
            "image/png": "[encoded data removed]",
            "text/plain": [
              "<Figure size 1080x720 with 1 Axes>"
            ]
          },
          "metadata": {}
        }
      ]
    },
    {
      "cell_type": "code",
      "source": [
        ""
      ],
      "metadata": {
        "id": "N-wmQxaMcPta"
      },
      "execution_count": null,
      "outputs": []
    },
    {
      "cell_type": "code",
      "source": [
        "#df_gender['Year'] = df_gender['Year'].astype(str)\n",
        "\n"
      ],
      "metadata": {
        "id": "gQUbktAwv_r9"
      },
      "execution_count": null,
      "outputs": []
    },
    {
      "cell_type": "code",
      "source": [
        ""
      ],
      "metadata": {
        "id": "bPxSp7BjvWTi"
      },
      "execution_count": null,
      "outputs": []
    }
  ]
}